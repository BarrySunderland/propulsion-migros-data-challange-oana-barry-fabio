{
 "cells": [
  {
   "cell_type": "markdown",
   "metadata": {},
   "source": [
    "# Plotting Geo Data"
   ]
  },
  {
   "cell_type": "code",
   "execution_count": null,
   "metadata": {},
   "outputs": [],
   "source": []
  },
  {
   "cell_type": "code",
   "execution_count": 74,
   "metadata": {},
   "outputs": [],
   "source": [
    "from bokeh.plotting import figure, show, output_file\n",
    "from bokeh.io import output_notebook\n",
    "from bokeh.tile_providers import get_provider, Vendors\n",
    "from bokeh.models import ColumnDataSource, HoverTool, CategoricalColorMapper\n",
    "from bokeh.palettes import Accent\n",
    "\n",
    "import math\n",
    "import json\n",
    "import pandas as pd\n",
    "import os\n",
    "import re\n",
    "import numpy as np\n",
    "from ast import literal_eval"
   ]
  },
  {
   "cell_type": "markdown",
   "metadata": {},
   "source": [
    "# data sources\n",
    "\n",
    "#### https://data.stadt-zuerich.ch/\n",
    "\n",
    "* Locations of automatic counting devices for pedestrian and bicycle traffic\n",
    "    https://data.stadt-zuerich.ch/dataset/verkehrszaehlungen-standorte-velo-fussgaenger\n",
    "    \n",
    "* Automatic counting data «Pedestrian traffic» - quarter-hourly values\n",
    "    https://data.stadt-zuerich.ch/dataset/verkehrszaehlungen-werte-fussgaenger-velo\n",
    "\n",
    "\n",
    "* Fusswegnetz\n",
    "    https://data.stadt-zuerich.ch/dataset/fussweg"
   ]
  },
  {
   "cell_type": "code",
   "execution_count": null,
   "metadata": {},
   "outputs": [],
   "source": []
  },
  {
   "cell_type": "markdown",
   "metadata": {},
   "source": [
    "### Functions\n"
   ]
  },
  {
   "cell_type": "code",
   "execution_count": 2,
   "metadata": {},
   "outputs": [],
   "source": [
    "def extract_ints(in_string):\n",
    "    out_string = re.sub('[^0-9]','', in_string)\n",
    "    if len(out_string):\n",
    "        return int(out_string)\n",
    "    else:\n",
    "        return np.nan"
   ]
  },
  {
   "cell_type": "code",
   "execution_count": 3,
   "metadata": {},
   "outputs": [],
   "source": [
    "def merc_proj(coords):\n",
    "    \"\"\"\n",
    "    coords: a tuple containing coordinates ordered as (lat, lon)\n",
    "    \"\"\"\n",
    "    lat, lon = coords    \n",
    "    r_major = 6378137.000\n",
    "    x = r_major * math.radians(lon)\n",
    "    scale = x/lon\n",
    "    y = 180.0/math.pi * math.log(math.tan(math.pi/4.0 + \n",
    "        lat * (math.pi/180.0)/2.0)) * scale\n",
    "    \n",
    "    return x, y"
   ]
  },
  {
   "cell_type": "code",
   "execution_count": 89,
   "metadata": {},
   "outputs": [],
   "source": [
    "def deg2num(lat_deg, lon_deg, zoom):\n",
    "      lat_rad = math.radians(lat_deg)\n",
    "      n = 2.0 ** zoom\n",
    "      xtile = int((lon_deg + 180.0) / 360.0 * n)\n",
    "      ytile = int((1.0 - math.asinh(math.tan(lat_rad)) / math.pi) / 2.0 * n)\n",
    "      return (xtile, ytile)"
   ]
  },
  {
   "cell_type": "markdown",
   "metadata": {},
   "source": [
    "## Load Data"
   ]
  },
  {
   "cell_type": "code",
   "execution_count": 4,
   "metadata": {},
   "outputs": [],
   "source": [
    "folder = 'data'"
   ]
  },
  {
   "cell_type": "markdown",
   "metadata": {},
   "source": [
    "### Zurich Kreis Buro"
   ]
  },
  {
   "cell_type": "code",
   "execution_count": 5,
   "metadata": {},
   "outputs": [
    {
     "name": "stdout",
     "output_type": "stream",
     "text": [
      "950857.6945089049 ,  6003812.204877849\n"
     ]
    }
   ],
   "source": [
    "zur_long= 8.5417\n",
    "zur_lat = 47.3769\n",
    "coord = (zur_lat, zur_long)\n",
    "zur_x, zur_y = merc_proj(coord)\n",
    "\n",
    "print(zur_x,', ', zur_y)"
   ]
  },
  {
   "cell_type": "code",
   "execution_count": 6,
   "metadata": {},
   "outputs": [],
   "source": [
    "fname = 'stadtkreis.json'\n",
    "fpath = os.path.join(folder,fname )\n",
    "\n",
    "with open(fpath, 'r') as f:\n",
    "    kreis_json = json.load(f) "
   ]
  },
  {
   "cell_type": "code",
   "execution_count": 7,
   "metadata": {},
   "outputs": [
    {
     "data": {
      "text/plain": [
       "dict_keys(['name', 'type', 'features'])"
      ]
     },
     "execution_count": 7,
     "metadata": {},
     "output_type": "execute_result"
    }
   ],
   "source": [
    "kreis_json.keys()"
   ]
  },
  {
   "cell_type": "code",
   "execution_count": 8,
   "metadata": {},
   "outputs": [
    {
     "data": {
      "text/plain": [
       "'Kreis 9'"
      ]
     },
     "execution_count": 8,
     "metadata": {},
     "output_type": "execute_result"
    }
   ],
   "source": [
    "kreis_json['features'][0]['properties']['Bezeichnnung']"
   ]
  },
  {
   "cell_type": "code",
   "execution_count": 9,
   "metadata": {},
   "outputs": [
    {
     "name": "stdout",
     "output_type": "stream",
     "text": [
      "Polygon\n",
      "Polygon\n",
      "Polygon\n",
      "Polygon\n",
      "Polygon\n",
      "Polygon\n",
      "Polygon\n",
      "Polygon\n",
      "Polygon\n",
      "Polygon\n",
      "Polygon\n",
      "Polygon\n"
     ]
    }
   ],
   "source": [
    "# check that all coordinates are polygons\n",
    "for f in kreis_json['features']:\n",
    "    print(f['geometry']['type'])"
   ]
  },
  {
   "cell_type": "code",
   "execution_count": 10,
   "metadata": {},
   "outputs": [
    {
     "data": {
      "text/html": [
       "<div>\n",
       "<style scoped>\n",
       "    .dataframe tbody tr th:only-of-type {\n",
       "        vertical-align: middle;\n",
       "    }\n",
       "\n",
       "    .dataframe tbody tr th {\n",
       "        vertical-align: top;\n",
       "    }\n",
       "\n",
       "    .dataframe thead th {\n",
       "        text-align: right;\n",
       "    }\n",
       "</style>\n",
       "<table border=\"1\" class=\"dataframe\">\n",
       "  <thead>\n",
       "    <tr style=\"text-align: right;\">\n",
       "      <th></th>\n",
       "      <th>coords</th>\n",
       "    </tr>\n",
       "    <tr>\n",
       "      <th>kreis</th>\n",
       "      <th></th>\n",
       "    </tr>\n",
       "  </thead>\n",
       "  <tbody>\n",
       "    <tr>\n",
       "      <th>1</th>\n",
       "      <td>[(47.3768651828916, 8.54875812345879), (47.376...</td>\n",
       "    </tr>\n",
       "    <tr>\n",
       "      <th>2</th>\n",
       "      <td>[(47.3354317915205, 8.54297384152714), (47.335...</td>\n",
       "    </tr>\n",
       "    <tr>\n",
       "      <th>3</th>\n",
       "      <td>[(47.3684680042063, 8.52761485172454), (47.368...</td>\n",
       "    </tr>\n",
       "    <tr>\n",
       "      <th>4</th>\n",
       "      <td>[(47.3909036731392, 8.50236067762573), (47.390...</td>\n",
       "    </tr>\n",
       "    <tr>\n",
       "      <th>5</th>\n",
       "      <td>[(47.3949271514424, 8.50561161160157), (47.394...</td>\n",
       "    </tr>\n",
       "    <tr>\n",
       "      <th>6</th>\n",
       "      <td>[(47.4012469984016, 8.55559467141438), (47.401...</td>\n",
       "    </tr>\n",
       "    <tr>\n",
       "      <th>7</th>\n",
       "      <td>[(47.3883107010459, 8.58346243290615), (47.388...</td>\n",
       "    </tr>\n",
       "    <tr>\n",
       "      <th>8</th>\n",
       "      <td>[(47.3527885795743, 8.58624294108071), (47.352...</td>\n",
       "    </tr>\n",
       "    <tr>\n",
       "      <th>9</th>\n",
       "      <td>[(47.3809529399054, 8.50312802076276), (47.380...</td>\n",
       "    </tr>\n",
       "    <tr>\n",
       "      <th>10</th>\n",
       "      <td>[(47.4042325281943, 8.47819887163832), (47.404...</td>\n",
       "    </tr>\n",
       "    <tr>\n",
       "      <th>11</th>\n",
       "      <td>[(47.4221066631867, 8.48799434845604), (47.422...</td>\n",
       "    </tr>\n",
       "    <tr>\n",
       "      <th>12</th>\n",
       "      <td>[(47.4156460170665, 8.56324622139862), (47.415...</td>\n",
       "    </tr>\n",
       "  </tbody>\n",
       "</table>\n",
       "</div>"
      ],
      "text/plain": [
       "                                                  coords\n",
       "kreis                                                   \n",
       "1      [(47.3768651828916, 8.54875812345879), (47.376...\n",
       "2      [(47.3354317915205, 8.54297384152714), (47.335...\n",
       "3      [(47.3684680042063, 8.52761485172454), (47.368...\n",
       "4      [(47.3909036731392, 8.50236067762573), (47.390...\n",
       "5      [(47.3949271514424, 8.50561161160157), (47.394...\n",
       "6      [(47.4012469984016, 8.55559467141438), (47.401...\n",
       "7      [(47.3883107010459, 8.58346243290615), (47.388...\n",
       "8      [(47.3527885795743, 8.58624294108071), (47.352...\n",
       "9      [(47.3809529399054, 8.50312802076276), (47.380...\n",
       "10     [(47.4042325281943, 8.47819887163832), (47.404...\n",
       "11     [(47.4221066631867, 8.48799434845604), (47.422...\n",
       "12     [(47.4156460170665, 8.56324622139862), (47.415..."
      ]
     },
     "execution_count": 10,
     "metadata": {},
     "output_type": "execute_result"
    }
   ],
   "source": [
    "df_kreis_coord = pd.DataFrame()\n",
    "\n",
    "for feature in kreis_json['features']:\n",
    "    kreis_dict = {}\n",
    "    kreis_dict['kreis'] = int(re.sub('[^0-9]','', feature['properties']['Bezeichnnung']))\n",
    "    kreis_dict['coords'] = feature['geometry']['coordinates'][0]\n",
    "    kreis_dict['coords'] = [(el[1], el[0]) for el in  kreis_dict['coords']]\n",
    "    df_kreis_coord = df_kreis_coord.append(kreis_dict, ignore_index=True)\n",
    "    \n",
    "df_kreis_coord['kreis'] = df_kreis_coord['kreis'].astype(int)    \n",
    "df_kreis_coord = df_kreis_coord.sort_values('kreis').set_index('kreis')\n",
    "df_kreis_coord"
   ]
  },
  {
   "cell_type": "code",
   "execution_count": 11,
   "metadata": {},
   "outputs": [
    {
     "data": {
      "text/plain": [
       "(951643.4012182932, 6003806.481342967)"
      ]
     },
     "execution_count": 11,
     "metadata": {},
     "output_type": "execute_result"
    }
   ],
   "source": [
    "merc_proj(df_kreis_coord.loc[1]['coords'][0])"
   ]
  },
  {
   "cell_type": "code",
   "execution_count": 12,
   "metadata": {},
   "outputs": [
    {
     "data": {
      "text/html": [
       "<div>\n",
       "<style scoped>\n",
       "    .dataframe tbody tr th:only-of-type {\n",
       "        vertical-align: middle;\n",
       "    }\n",
       "\n",
       "    .dataframe tbody tr th {\n",
       "        vertical-align: top;\n",
       "    }\n",
       "\n",
       "    .dataframe thead th {\n",
       "        text-align: right;\n",
       "    }\n",
       "</style>\n",
       "<table border=\"1\" class=\"dataframe\">\n",
       "  <thead>\n",
       "    <tr style=\"text-align: right;\">\n",
       "      <th></th>\n",
       "      <th>coords</th>\n",
       "      <th>x_ys</th>\n",
       "      <th>xs</th>\n",
       "      <th>ys</th>\n",
       "    </tr>\n",
       "    <tr>\n",
       "      <th>kreis</th>\n",
       "      <th></th>\n",
       "      <th></th>\n",
       "      <th></th>\n",
       "      <th></th>\n",
       "    </tr>\n",
       "  </thead>\n",
       "  <tbody>\n",
       "    <tr>\n",
       "      <th>1</th>\n",
       "      <td>[(47.3768651828916, 8.54875812345879), (47.376...</td>\n",
       "      <td>[(951643.4012182932, 6003806.481342967), (9516...</td>\n",
       "      <td>[951643.4012182932, 951643.0115419946, 951642....</td>\n",
       "      <td>[6003806.481342967, 6003804.9435209455, 600380...</td>\n",
       "    </tr>\n",
       "    <tr>\n",
       "      <th>2</th>\n",
       "      <td>[(47.3354317915205, 8.54297384152714), (47.335...</td>\n",
       "      <td>[(950999.4978990573, 5996997.98142676), (95098...</td>\n",
       "      <td>[950999.4978990573, 950986.0201940133, 950976....</td>\n",
       "      <td>[5996997.98142676, 5996988.238234238, 5996981....</td>\n",
       "    </tr>\n",
       "    <tr>\n",
       "      <th>3</th>\n",
       "      <td>[(47.3684680042063, 8.52761485172454), (47.368...</td>\n",
       "      <td>[(949289.7429751329, 6002426.191448782), (9492...</td>\n",
       "      <td>[949289.7429751329, 949225.292438578, 949160.8...</td>\n",
       "      <td>[6002426.191448782, 6002363.777099468, 6002301...</td>\n",
       "    </tr>\n",
       "    <tr>\n",
       "      <th>4</th>\n",
       "      <td>[(47.3909036731392, 8.50236067762573), (47.390...</td>\n",
       "      <td>[(946478.4611740486, 6006114.555292751), (9465...</td>\n",
       "      <td>[946478.4611740486, 946535.3303605559, 946560....</td>\n",
       "      <td>[6006114.555292751, 6006090.378270911, 6006077...</td>\n",
       "    </tr>\n",
       "    <tr>\n",
       "      <th>5</th>\n",
       "      <td>[(47.3949271514424, 8.50561161160157), (47.394...</td>\n",
       "      <td>[(946840.3534888417, 6006776.170360912), (9468...</td>\n",
       "      <td>[946840.3534888417, 946863.4846444319, 946886....</td>\n",
       "      <td>[6006776.170360912, 6006772.468790983, 6006769...</td>\n",
       "    </tr>\n",
       "    <tr>\n",
       "      <th>6</th>\n",
       "      <td>[(47.4012469984016, 8.55559467141438), (47.401...</td>\n",
       "      <td>[(952404.4422554935, 6007815.499035581), (9523...</td>\n",
       "      <td>[952404.4422554935, 952398.0854357466, 952395....</td>\n",
       "      <td>[6007815.499035581, 6007798.858081422, 6007790...</td>\n",
       "    </tr>\n",
       "    <tr>\n",
       "      <th>7</th>\n",
       "      <td>[(47.3883107010459, 8.58346243290615), (47.388...</td>\n",
       "      <td>[(955506.6672743057, 6005688.197402064), (9555...</td>\n",
       "      <td>[955506.6672743057, 955587.0637776112, 955591....</td>\n",
       "      <td>[6005688.197402064, 6005691.193410223, 6005691...</td>\n",
       "    </tr>\n",
       "    <tr>\n",
       "      <th>8</th>\n",
       "      <td>[(47.3527885795743, 8.58624294108071), (47.352...</td>\n",
       "      <td>[(955816.1920284444, 5999849.467331672), (9558...</td>\n",
       "      <td>[955816.1920284444, 955801.2283115905, 955795....</td>\n",
       "      <td>[5999849.467331672, 5999818.324287471, 5999797...</td>\n",
       "    </tr>\n",
       "    <tr>\n",
       "      <th>9</th>\n",
       "      <td>[(47.3809529399054, 8.50312802076276), (47.380...</td>\n",
       "      <td>[(946563.8814213267, 6004478.487726108), (9465...</td>\n",
       "      <td>[946563.8814213267, 946556.3862116747, 946542....</td>\n",
       "      <td>[6004478.487726108, 6004470.849732304, 6004455...</td>\n",
       "    </tr>\n",
       "    <tr>\n",
       "      <th>10</th>\n",
       "      <td>[(47.4042325281943, 8.47819887163832), (47.404...</td>\n",
       "      <td>[(943788.7812348843, 6008306.526868095), (9437...</td>\n",
       "      <td>[943788.7812348843, 943787.6611020037, 943787....</td>\n",
       "      <td>[6008306.526868095, 6008306.586163752, 6008310...</td>\n",
       "    </tr>\n",
       "    <tr>\n",
       "      <th>11</th>\n",
       "      <td>[(47.4221066631867, 8.48799434845604), (47.422...</td>\n",
       "      <td>[(944879.2087263103, 6011246.854580052), (9448...</td>\n",
       "      <td>[944879.2087263103, 944881.4479297944, 944892....</td>\n",
       "      <td>[6011246.854580052, 6011251.027597851, 6011272...</td>\n",
       "    </tr>\n",
       "    <tr>\n",
       "      <th>12</th>\n",
       "      <td>[(47.4156460170665, 8.56324622139862), (47.415...</td>\n",
       "      <td>[(953256.2089035183, 6010183.951369027), (9533...</td>\n",
       "      <td>[953256.2089035183, 953343.3812519693, 953377....</td>\n",
       "      <td>[6010183.951369027, 6010213.221760895, 6010224...</td>\n",
       "    </tr>\n",
       "  </tbody>\n",
       "</table>\n",
       "</div>"
      ],
      "text/plain": [
       "                                                  coords  \\\n",
       "kreis                                                      \n",
       "1      [(47.3768651828916, 8.54875812345879), (47.376...   \n",
       "2      [(47.3354317915205, 8.54297384152714), (47.335...   \n",
       "3      [(47.3684680042063, 8.52761485172454), (47.368...   \n",
       "4      [(47.3909036731392, 8.50236067762573), (47.390...   \n",
       "5      [(47.3949271514424, 8.50561161160157), (47.394...   \n",
       "6      [(47.4012469984016, 8.55559467141438), (47.401...   \n",
       "7      [(47.3883107010459, 8.58346243290615), (47.388...   \n",
       "8      [(47.3527885795743, 8.58624294108071), (47.352...   \n",
       "9      [(47.3809529399054, 8.50312802076276), (47.380...   \n",
       "10     [(47.4042325281943, 8.47819887163832), (47.404...   \n",
       "11     [(47.4221066631867, 8.48799434845604), (47.422...   \n",
       "12     [(47.4156460170665, 8.56324622139862), (47.415...   \n",
       "\n",
       "                                                    x_ys  \\\n",
       "kreis                                                      \n",
       "1      [(951643.4012182932, 6003806.481342967), (9516...   \n",
       "2      [(950999.4978990573, 5996997.98142676), (95098...   \n",
       "3      [(949289.7429751329, 6002426.191448782), (9492...   \n",
       "4      [(946478.4611740486, 6006114.555292751), (9465...   \n",
       "5      [(946840.3534888417, 6006776.170360912), (9468...   \n",
       "6      [(952404.4422554935, 6007815.499035581), (9523...   \n",
       "7      [(955506.6672743057, 6005688.197402064), (9555...   \n",
       "8      [(955816.1920284444, 5999849.467331672), (9558...   \n",
       "9      [(946563.8814213267, 6004478.487726108), (9465...   \n",
       "10     [(943788.7812348843, 6008306.526868095), (9437...   \n",
       "11     [(944879.2087263103, 6011246.854580052), (9448...   \n",
       "12     [(953256.2089035183, 6010183.951369027), (9533...   \n",
       "\n",
       "                                                      xs  \\\n",
       "kreis                                                      \n",
       "1      [951643.4012182932, 951643.0115419946, 951642....   \n",
       "2      [950999.4978990573, 950986.0201940133, 950976....   \n",
       "3      [949289.7429751329, 949225.292438578, 949160.8...   \n",
       "4      [946478.4611740486, 946535.3303605559, 946560....   \n",
       "5      [946840.3534888417, 946863.4846444319, 946886....   \n",
       "6      [952404.4422554935, 952398.0854357466, 952395....   \n",
       "7      [955506.6672743057, 955587.0637776112, 955591....   \n",
       "8      [955816.1920284444, 955801.2283115905, 955795....   \n",
       "9      [946563.8814213267, 946556.3862116747, 946542....   \n",
       "10     [943788.7812348843, 943787.6611020037, 943787....   \n",
       "11     [944879.2087263103, 944881.4479297944, 944892....   \n",
       "12     [953256.2089035183, 953343.3812519693, 953377....   \n",
       "\n",
       "                                                      ys  \n",
       "kreis                                                     \n",
       "1      [6003806.481342967, 6003804.9435209455, 600380...  \n",
       "2      [5996997.98142676, 5996988.238234238, 5996981....  \n",
       "3      [6002426.191448782, 6002363.777099468, 6002301...  \n",
       "4      [6006114.555292751, 6006090.378270911, 6006077...  \n",
       "5      [6006776.170360912, 6006772.468790983, 6006769...  \n",
       "6      [6007815.499035581, 6007798.858081422, 6007790...  \n",
       "7      [6005688.197402064, 6005691.193410223, 6005691...  \n",
       "8      [5999849.467331672, 5999818.324287471, 5999797...  \n",
       "9      [6004478.487726108, 6004470.849732304, 6004455...  \n",
       "10     [6008306.526868095, 6008306.586163752, 6008310...  \n",
       "11     [6011246.854580052, 6011251.027597851, 6011272...  \n",
       "12     [6010183.951369027, 6010213.221760895, 6010224...  "
      ]
     },
     "execution_count": 12,
     "metadata": {},
     "output_type": "execute_result"
    }
   ],
   "source": [
    "df_kreis_coord['x_ys'] = df_kreis_coord['coords'].apply(lambda x: [merc_proj(el) for el in x])\n",
    "df_kreis_coord['xs'] = df_kreis_coord['x_ys'].apply(lambda lst: [x for x,y in lst])\n",
    "df_kreis_coord['ys'] = df_kreis_coord['x_ys'].apply(lambda lst: [y for x,y in lst])\n",
    "df_kreis_coord"
   ]
  },
  {
   "cell_type": "code",
   "execution_count": 13,
   "metadata": {},
   "outputs": [],
   "source": [
    "df_kreis_coord = df_kreis_coord.drop(columns='x_ys')"
   ]
  },
  {
   "cell_type": "code",
   "execution_count": 14,
   "metadata": {},
   "outputs": [],
   "source": [
    "df_kreis_coord.to_csv('kreis_coordinates.csv')"
   ]
  },
  {
   "cell_type": "markdown",
   "metadata": {},
   "source": [
    "### load Population data"
   ]
  },
  {
   "cell_type": "code",
   "execution_count": 15,
   "metadata": {},
   "outputs": [],
   "source": [
    "fname = 'BEV340T3401_Zukuenftige_Bevoelkerungsentwicklung-Veraenderung_nach-Stadtkreis-Stadtquartier.xlsx'\n",
    "fpath = os.path.join(folder,fname)\n",
    "\n",
    "df_pop = pd.read_excel(fpath, sheet_name='2018, 2035', header=8)\n",
    "df_pop = df_pop.rename(columns={'Unnamed: 0': 'area', 'Veränderung\\n(%)':'percentage_change'})\n",
    "\n",
    "df_pop['kreis'] = df_pop.area.apply(lambda x: extract_ints(x))\n",
    "df_pop['kreis'] = df_pop['kreis'].ffill()\n",
    "df_pop['pop_diff'] = df_pop[2035] - df_pop[2018]\n"
   ]
  },
  {
   "cell_type": "code",
   "execution_count": 16,
   "metadata": {},
   "outputs": [],
   "source": [
    "df_pop = df_pop[['kreis', 'area', 2018, 2035, 'percentage_change', 'pop_diff']]"
   ]
  },
  {
   "cell_type": "code",
   "execution_count": 17,
   "metadata": {},
   "outputs": [
    {
     "data": {
      "text/html": [
       "<div>\n",
       "<style scoped>\n",
       "    .dataframe tbody tr th:only-of-type {\n",
       "        vertical-align: middle;\n",
       "    }\n",
       "\n",
       "    .dataframe tbody tr th {\n",
       "        vertical-align: top;\n",
       "    }\n",
       "\n",
       "    .dataframe thead th {\n",
       "        text-align: right;\n",
       "    }\n",
       "</style>\n",
       "<table border=\"1\" class=\"dataframe\">\n",
       "  <thead>\n",
       "    <tr style=\"text-align: right;\">\n",
       "      <th></th>\n",
       "      <th>kreis</th>\n",
       "      <th>area</th>\n",
       "      <th>2018</th>\n",
       "      <th>2035</th>\n",
       "      <th>percentage_change</th>\n",
       "      <th>pop_diff</th>\n",
       "    </tr>\n",
       "  </thead>\n",
       "  <tbody>\n",
       "    <tr>\n",
       "      <th>0</th>\n",
       "      <td>NaN</td>\n",
       "      <td>Ganze Stadt</td>\n",
       "      <td>428737</td>\n",
       "      <td>504700</td>\n",
       "      <td>17.7</td>\n",
       "      <td>75963</td>\n",
       "    </tr>\n",
       "    <tr>\n",
       "      <th>35</th>\n",
       "      <td>11.0</td>\n",
       "      <td>Kreis 11</td>\n",
       "      <td>75344</td>\n",
       "      <td>93800</td>\n",
       "      <td>24.6</td>\n",
       "      <td>18456</td>\n",
       "    </tr>\n",
       "    <tr>\n",
       "      <th>39</th>\n",
       "      <td>12.0</td>\n",
       "      <td>Kreis 12</td>\n",
       "      <td>32483</td>\n",
       "      <td>43600</td>\n",
       "      <td>34.2</td>\n",
       "      <td>11117</td>\n",
       "    </tr>\n",
       "    <tr>\n",
       "      <th>29</th>\n",
       "      <td>9.0</td>\n",
       "      <td>Kreis 9</td>\n",
       "      <td>55765</td>\n",
       "      <td>65800</td>\n",
       "      <td>18.0</td>\n",
       "      <td>10035</td>\n",
       "    </tr>\n",
       "    <tr>\n",
       "      <th>38</th>\n",
       "      <td>11.0</td>\n",
       "      <td>Seebach</td>\n",
       "      <td>25568</td>\n",
       "      <td>34900</td>\n",
       "      <td>36.5</td>\n",
       "      <td>9332</td>\n",
       "    </tr>\n",
       "  </tbody>\n",
       "</table>\n",
       "</div>"
      ],
      "text/plain": [
       "    kreis         area    2018    2035  percentage_change  pop_diff\n",
       "0     NaN  Ganze Stadt  428737  504700               17.7     75963\n",
       "35   11.0     Kreis 11   75344   93800               24.6     18456\n",
       "39   12.0     Kreis 12   32483   43600               34.2     11117\n",
       "29    9.0      Kreis 9   55765   65800               18.0     10035\n",
       "38   11.0      Seebach   25568   34900               36.5      9332"
      ]
     },
     "execution_count": 17,
     "metadata": {},
     "output_type": "execute_result"
    }
   ],
   "source": [
    "df_pop.sort_values(by=['pop_diff','percentage_change'], ascending=False).head()"
   ]
  },
  {
   "cell_type": "markdown",
   "metadata": {},
   "source": [
    "## store locations"
   ]
  },
  {
   "cell_type": "code",
   "execution_count": 18,
   "metadata": {},
   "outputs": [
    {
     "data": {
      "text/html": [
       "<div>\n",
       "<style scoped>\n",
       "    .dataframe tbody tr th:only-of-type {\n",
       "        vertical-align: middle;\n",
       "    }\n",
       "\n",
       "    .dataframe tbody tr th {\n",
       "        vertical-align: top;\n",
       "    }\n",
       "\n",
       "    .dataframe thead th {\n",
       "        text-align: right;\n",
       "    }\n",
       "</style>\n",
       "<table border=\"1\" class=\"dataframe\">\n",
       "  <thead>\n",
       "    <tr style=\"text-align: right;\">\n",
       "      <th></th>\n",
       "      <th>name</th>\n",
       "      <th>lon</th>\n",
       "      <th>lat</th>\n",
       "      <th>city</th>\n",
       "      <th>postcode</th>\n",
       "      <th>street</th>\n",
       "      <th>coordinates</th>\n",
       "    </tr>\n",
       "  </thead>\n",
       "  <tbody>\n",
       "    <tr>\n",
       "      <th>0</th>\n",
       "      <td>SPAR</td>\n",
       "      <td>9.037929</td>\n",
       "      <td>47.155714</td>\n",
       "      <td></td>\n",
       "      <td></td>\n",
       "      <td></td>\n",
       "      <td>(9.0379294 , 47.1557144)</td>\n",
       "    </tr>\n",
       "    <tr>\n",
       "      <th>1</th>\n",
       "      <td>ALDI SÜD</td>\n",
       "      <td>8.965272</td>\n",
       "      <td>47.228772</td>\n",
       "      <td>Uznach</td>\n",
       "      <td>8730</td>\n",
       "      <td>Wiesentalstrasse</td>\n",
       "      <td>(8.965272 , 47.2287724)</td>\n",
       "    </tr>\n",
       "    <tr>\n",
       "      <th>2</th>\n",
       "      <td>Migros</td>\n",
       "      <td>8.980329</td>\n",
       "      <td>47.226191</td>\n",
       "      <td></td>\n",
       "      <td></td>\n",
       "      <td></td>\n",
       "      <td>(8.9803292 , 47.2261912)</td>\n",
       "    </tr>\n",
       "    <tr>\n",
       "      <th>3</th>\n",
       "      <td>Linth Park</td>\n",
       "      <td>8.970016</td>\n",
       "      <td>47.225126</td>\n",
       "      <td></td>\n",
       "      <td></td>\n",
       "      <td></td>\n",
       "      <td>(8.9700163 , 47.2251262)</td>\n",
       "    </tr>\n",
       "    <tr>\n",
       "      <th>4</th>\n",
       "      <td>Coop Bahnhofbrücke</td>\n",
       "      <td>8.542161</td>\n",
       "      <td>47.376732</td>\n",
       "      <td>Zürich</td>\n",
       "      <td>8001</td>\n",
       "      <td>Bahnhofbrücke</td>\n",
       "      <td>(8.5421608 , 47.3767316)</td>\n",
       "    </tr>\n",
       "  </tbody>\n",
       "</table>\n",
       "</div>"
      ],
      "text/plain": [
       "                 name       lon        lat    city postcode            street  \\\n",
       "0                SPAR  9.037929  47.155714                                      \n",
       "1            ALDI SÜD  8.965272  47.228772  Uznach     8730  Wiesentalstrasse   \n",
       "2              Migros  8.980329  47.226191                                      \n",
       "3          Linth Park  8.970016  47.225126                                      \n",
       "4  Coop Bahnhofbrücke  8.542161  47.376732  Zürich     8001     Bahnhofbrücke   \n",
       "\n",
       "                coordinates  \n",
       "0  (9.0379294 , 47.1557144)  \n",
       "1   (8.965272 , 47.2287724)  \n",
       "2  (8.9803292 , 47.2261912)  \n",
       "3  (8.9700163 , 47.2251262)  \n",
       "4  (8.5421608 , 47.3767316)  "
      ]
     },
     "execution_count": 18,
     "metadata": {},
     "output_type": "execute_result"
    }
   ],
   "source": [
    "fname = 'supermarket_coordinates.csv'\n",
    "fpath = os.path.join(folder, fname)\n",
    "df_stores = pd.read_csv(fpath)\n",
    "df_stores.head()"
   ]
  },
  {
   "cell_type": "code",
   "execution_count": 19,
   "metadata": {},
   "outputs": [],
   "source": [
    " df_stores['coordinates'] =  df_stores['coordinates'].apply(literal_eval)"
   ]
  },
  {
   "cell_type": "code",
   "execution_count": 94,
   "metadata": {},
   "outputs": [
    {
     "data": {
      "text/html": [
       "<div>\n",
       "<style scoped>\n",
       "    .dataframe tbody tr th:only-of-type {\n",
       "        vertical-align: middle;\n",
       "    }\n",
       "\n",
       "    .dataframe tbody tr th {\n",
       "        vertical-align: top;\n",
       "    }\n",
       "\n",
       "    .dataframe thead th {\n",
       "        text-align: right;\n",
       "    }\n",
       "</style>\n",
       "<table border=\"1\" class=\"dataframe\">\n",
       "  <thead>\n",
       "    <tr style=\"text-align: right;\">\n",
       "      <th></th>\n",
       "      <th>name</th>\n",
       "      <th>lon</th>\n",
       "      <th>lat</th>\n",
       "      <th>city</th>\n",
       "      <th>postcode</th>\n",
       "      <th>street</th>\n",
       "      <th>coordinates</th>\n",
       "      <th>x_ys</th>\n",
       "      <th>y</th>\n",
       "      <th>x</th>\n",
       "      <th>label</th>\n",
       "    </tr>\n",
       "  </thead>\n",
       "  <tbody>\n",
       "    <tr>\n",
       "      <th>0</th>\n",
       "      <td>SPAR</td>\n",
       "      <td>9.037929</td>\n",
       "      <td>47.155714</td>\n",
       "      <td></td>\n",
       "      <td></td>\n",
       "      <td></td>\n",
       "      <td>(9.0379294, 47.1557144)</td>\n",
       "      <td>(5249350.115001038, 1010296.199958076)</td>\n",
       "      <td>5.249350e+06</td>\n",
       "      <td>1.010296e+06</td>\n",
       "      <td>competitor</td>\n",
       "    </tr>\n",
       "    <tr>\n",
       "      <th>1</th>\n",
       "      <td>ALDI SÜD</td>\n",
       "      <td>8.965272</td>\n",
       "      <td>47.228772</td>\n",
       "      <td>Uznach</td>\n",
       "      <td>8730</td>\n",
       "      <td>Wiesentalstrasse</td>\n",
       "      <td>(8.965272, 47.2287724)</td>\n",
       "      <td>(5257482.894359413, 1002107.1581323321)</td>\n",
       "      <td>5.257483e+06</td>\n",
       "      <td>1.002107e+06</td>\n",
       "      <td>competitor</td>\n",
       "    </tr>\n",
       "    <tr>\n",
       "      <th>2</th>\n",
       "      <td>Migros</td>\n",
       "      <td>8.980329</td>\n",
       "      <td>47.226191</td>\n",
       "      <td></td>\n",
       "      <td></td>\n",
       "      <td></td>\n",
       "      <td>(8.9803292, 47.2261912)</td>\n",
       "      <td>(5257195.556489778, 1003804.0841199819)</td>\n",
       "      <td>5.257196e+06</td>\n",
       "      <td>1.003804e+06</td>\n",
       "      <td>migros</td>\n",
       "    </tr>\n",
       "    <tr>\n",
       "      <th>3</th>\n",
       "      <td>Linth Park</td>\n",
       "      <td>8.970016</td>\n",
       "      <td>47.225126</td>\n",
       "      <td></td>\n",
       "      <td></td>\n",
       "      <td></td>\n",
       "      <td>(8.9700163, 47.2251262)</td>\n",
       "      <td>(5257077.001232082, 1002641.8267009896)</td>\n",
       "      <td>5.257077e+06</td>\n",
       "      <td>1.002642e+06</td>\n",
       "      <td>competitor</td>\n",
       "    </tr>\n",
       "    <tr>\n",
       "      <th>4</th>\n",
       "      <td>Coop Bahnhofbrücke</td>\n",
       "      <td>8.542161</td>\n",
       "      <td>47.376732</td>\n",
       "      <td>Zürich</td>\n",
       "      <td>8001</td>\n",
       "      <td>Bahnhofbrücke</td>\n",
       "      <td>(8.5421608, 47.3767316)</td>\n",
       "      <td>(5273953.637161593, 954451.4114619531)</td>\n",
       "      <td>5.273954e+06</td>\n",
       "      <td>9.544514e+05</td>\n",
       "      <td>competitor</td>\n",
       "    </tr>\n",
       "  </tbody>\n",
       "</table>\n",
       "</div>"
      ],
      "text/plain": [
       "                 name       lon        lat    city postcode            street  \\\n",
       "0                SPAR  9.037929  47.155714                                      \n",
       "1            ALDI SÜD  8.965272  47.228772  Uznach     8730  Wiesentalstrasse   \n",
       "2              Migros  8.980329  47.226191                                      \n",
       "3          Linth Park  8.970016  47.225126                                      \n",
       "4  Coop Bahnhofbrücke  8.542161  47.376732  Zürich     8001     Bahnhofbrücke   \n",
       "\n",
       "               coordinates                                     x_ys  \\\n",
       "0  (9.0379294, 47.1557144)   (5249350.115001038, 1010296.199958076)   \n",
       "1   (8.965272, 47.2287724)  (5257482.894359413, 1002107.1581323321)   \n",
       "2  (8.9803292, 47.2261912)  (5257195.556489778, 1003804.0841199819)   \n",
       "3  (8.9700163, 47.2251262)  (5257077.001232082, 1002641.8267009896)   \n",
       "4  (8.5421608, 47.3767316)   (5273953.637161593, 954451.4114619531)   \n",
       "\n",
       "              y             x       label  \n",
       "0  5.249350e+06  1.010296e+06  competitor  \n",
       "1  5.257483e+06  1.002107e+06  competitor  \n",
       "2  5.257196e+06  1.003804e+06      migros  \n",
       "3  5.257077e+06  1.002642e+06  competitor  \n",
       "4  5.273954e+06  9.544514e+05  competitor  "
      ]
     },
     "execution_count": 94,
     "metadata": {},
     "output_type": "execute_result"
    }
   ],
   "source": [
    "df_stores['x_ys'] = df_stores['coordinates'].apply(merc_proj)\n",
    "df_stores['y'] = df_stores['x_ys'].apply(lambda x: x[0])  # + 725000\n",
    "df_stores['x'] = df_stores['x_ys'].apply(lambda x: x[1])\n",
    "\n",
    "df_stores.head()"
   ]
  },
  {
   "cell_type": "code",
   "execution_count": 95,
   "metadata": {},
   "outputs": [],
   "source": [
    "df_stores_plot = df_stores[['name','x','y']]"
   ]
  },
  {
   "cell_type": "markdown",
   "metadata": {},
   "source": [
    "# Plot"
   ]
  },
  {
   "cell_type": "code",
   "execution_count": 96,
   "metadata": {},
   "outputs": [
    {
     "data": {
      "text/plain": [
       "[(942742.7262690568, 6005679.696502305),\n",
       " (944022.9004131794, 6010672.06215552),\n",
       " (946501.8741536548, 6011865.07029146),\n",
       " (954606.8236393315, 6013900.687657055),\n",
       " (953825.6947724351, 5999536.689132897),\n",
       " (948770.8993344943, 5997296.480306304)]"
      ]
     },
     "execution_count": 96,
     "metadata": {},
     "output_type": "execute_result"
    }
   ],
   "source": [
    "ef_zh_coords = [(47.388259, 8.468802),\n",
    "        (47.418613, 8.480302),\n",
    "        (47.425864, 8.502571),\n",
    "        (47.438234, 8.575379),\n",
    "        (47.350885, 8.568362),\n",
    "        (47.337249, 8.522954)]\n",
    "\n",
    "ef_zh_coords_xys = [merc_proj(coord) for coord in ef_zh_coords]\n",
    "ef_zh_coords_xys"
   ]
  },
  {
   "cell_type": "code",
   "execution_count": 97,
   "metadata": {},
   "outputs": [
    {
     "data": {
      "text/plain": [
       "[6005679.696502305,\n",
       " 6010672.06215552,\n",
       " 6011865.07029146,\n",
       " 6013900.687657055,\n",
       " 5999536.689132897,\n",
       " 5997296.480306304]"
      ]
     },
     "execution_count": 97,
     "metadata": {},
     "output_type": "execute_result"
    }
   ],
   "source": [
    "xs = [el[0] for el in ef_zh_coords_xys]\n",
    "ys = [el[1] for el in ef_zh_coords_xys]\n",
    "ys"
   ]
  },
  {
   "cell_type": "code",
   "execution_count": 98,
   "metadata": {},
   "outputs": [],
   "source": [
    "wint = (47.4988, 8.7237)\n",
    "wint_x, wint_y = merc_proj(wint)\n",
    "\n",
    "brem = (47.3492, 8.3398)\n",
    "brem_x, brem_y = merc_proj(brem)"
   ]
  },
  {
   "cell_type": "code",
   "execution_count": 99,
   "metadata": {},
   "outputs": [
    {
     "data": {
      "text/plain": [
       "['competitor', 'migros']"
      ]
     },
     "execution_count": 99,
     "metadata": {},
     "output_type": "execute_result"
    }
   ],
   "source": [
    "df_stores['label'] = df_stores['name'].str.lower().str.contains('migros')\n",
    "df_stores['label'] = df_stores['label'].replace({True:'migros', False:'competitor' })\n",
    "list(df_stores['label'].unique())"
   ]
  },
  {
   "cell_type": "code",
   "execution_count": 100,
   "metadata": {},
   "outputs": [
    {
     "ename": "KeyError",
     "evalue": "2",
     "output_type": "error",
     "traceback": [
      "\u001b[1;31m---------------------------------------------------------------------------\u001b[0m",
      "\u001b[1;31mKeyError\u001b[0m                                  Traceback (most recent call last)",
      "\u001b[1;32m<ipython-input-100-28393d9aaeba>\u001b[0m in \u001b[0;36m<module>\u001b[1;34m\u001b[0m\n\u001b[0;32m     27\u001b[0m \u001b[1;33m\u001b[0m\u001b[0m\n\u001b[0;32m     28\u001b[0m \u001b[0mcategories\u001b[0m \u001b[1;33m=\u001b[0m \u001b[0mlist\u001b[0m\u001b[1;33m(\u001b[0m\u001b[0mdf_stores\u001b[0m\u001b[1;33m[\u001b[0m\u001b[1;34m'label'\u001b[0m\u001b[1;33m]\u001b[0m\u001b[1;33m.\u001b[0m\u001b[0munique\u001b[0m\u001b[1;33m(\u001b[0m\u001b[1;33m)\u001b[0m\u001b[1;33m)\u001b[0m\u001b[1;33m\u001b[0m\u001b[1;33m\u001b[0m\u001b[0m\n\u001b[1;32m---> 29\u001b[1;33m \u001b[0mcolor_mapper\u001b[0m \u001b[1;33m=\u001b[0m \u001b[0mCategoricalColorMapper\u001b[0m\u001b[1;33m(\u001b[0m\u001b[0mfactors\u001b[0m\u001b[1;33m=\u001b[0m\u001b[0mcategories\u001b[0m\u001b[1;33m,\u001b[0m \u001b[0mpalette\u001b[0m\u001b[1;33m=\u001b[0m\u001b[0mAccent\u001b[0m\u001b[1;33m[\u001b[0m\u001b[0mlen\u001b[0m\u001b[1;33m(\u001b[0m\u001b[0mcategories\u001b[0m\u001b[1;33m)\u001b[0m\u001b[1;33m]\u001b[0m\u001b[1;33m)\u001b[0m\u001b[1;33m\u001b[0m\u001b[1;33m\u001b[0m\u001b[0m\n\u001b[0m\u001b[0;32m     30\u001b[0m \u001b[1;33m\u001b[0m\u001b[0m\n\u001b[0;32m     31\u001b[0m \u001b[0mp\u001b[0m\u001b[1;33m.\u001b[0m\u001b[0mcircle\u001b[0m\u001b[1;33m(\u001b[0m\u001b[0mx\u001b[0m\u001b[1;33m=\u001b[0m \u001b[1;34m'x'\u001b[0m\u001b[1;33m,\u001b[0m \u001b[0my\u001b[0m\u001b[1;33m=\u001b[0m\u001b[1;34m'y'\u001b[0m\u001b[1;33m,\u001b[0m \u001b[0msource\u001b[0m\u001b[1;33m=\u001b[0m\u001b[0msource\u001b[0m\u001b[1;33m,\u001b[0m \u001b[0malpha\u001b[0m\u001b[1;33m=\u001b[0m\u001b[1;36m0.3\u001b[0m\u001b[1;33m,\u001b[0m \u001b[0mcolor\u001b[0m \u001b[1;33m=\u001b[0m \u001b[0mdict\u001b[0m\u001b[1;33m(\u001b[0m\u001b[0mfield\u001b[0m\u001b[1;33m=\u001b[0m\u001b[1;34m'label'\u001b[0m\u001b[1;33m,\u001b[0m \u001b[0mtransform\u001b[0m\u001b[1;33m=\u001b[0m\u001b[0mcolor_mapper\u001b[0m\u001b[1;33m)\u001b[0m \u001b[1;33m)\u001b[0m\u001b[1;33m\u001b[0m\u001b[1;33m\u001b[0m\u001b[0m\n",
      "\u001b[1;31mKeyError\u001b[0m: 2"
     ]
    }
   ],
   "source": [
    "\n",
    "output_file(\"tile.html\")\n",
    "\n",
    "tile_provider = get_provider(Vendors.CARTODBPOSITRON)\n",
    "\n",
    "x_size = 1000000\n",
    "y_size = 1000000\n",
    "\n",
    "# range bounds supplied in web mercator coordinates\n",
    "p = figure( x_axis_type=\"mercator\", y_axis_type=\"mercator\")\n",
    "p.add_tile(tile_provider)\n",
    "\n",
    "\n",
    "\n",
    "p.circle(x = zur_x, y = zur_y, color='red', size=5, alpha=0.6)\n",
    "#p.circle(x = wint_x, y = wint_y, size=10, alpha=0)\n",
    "#p.circle(x = brem_x, y = brem_y, size=10, alpha=0)\n",
    "\n",
    "#add patch glyphs for kreis'\n",
    "for index, row in df_kreis_coord.iterrows():\n",
    "    p.patch(  row['xs'], row['ys'], alpha=0.5, line_width=2, )\n",
    "\n",
    "    \n",
    "\n",
    "#add glyphs for points of interest\n",
    "\n",
    "source = ColumnDataSource(df_stores)\n",
    "\n",
    "categories = list(df_stores['label'].unique())\n",
    "color_mapper = CategoricalColorMapper(factors=categories, palette=Accent[len(categories)])\n",
    "\n",
    "p.circle(x= 'x', y='y', source=source, alpha=0.3, color = dict(field='label', transform=color_mapper) )\n",
    "\n",
    "    \n",
    "    \n",
    "    \n",
    "#hovertool to display additional cargo info\n",
    "p_hover = HoverTool(\n",
    "        tooltips = [ (\"feature\",\"@name\"), ], \n",
    "        #formatters = {\"planned_arrival\" : \"datetime\", \"planned_departure\": \"datetime\" },\n",
    "        mode = 'mouse'\n",
    "    )\n",
    "p.add_tools(p_hover)\n",
    "\n",
    "output_notebook()\n",
    "show(p)"
   ]
  },
  {
   "cell_type": "code",
   "execution_count": null,
   "metadata": {},
   "outputs": [],
   "source": []
  },
  {
   "cell_type": "code",
   "execution_count": null,
   "metadata": {},
   "outputs": [],
   "source": []
  },
  {
   "cell_type": "code",
   "execution_count": null,
   "metadata": {},
   "outputs": [],
   "source": []
  }
 ],
 "metadata": {
  "kernelspec": {
   "display_name": "Python 3",
   "language": "python",
   "name": "python3"
  },
  "language_info": {
   "codemirror_mode": {
    "name": "ipython",
    "version": 3
   },
   "file_extension": ".py",
   "mimetype": "text/x-python",
   "name": "python",
   "nbconvert_exporter": "python",
   "pygments_lexer": "ipython3",
   "version": "3.7.3"
  }
 },
 "nbformat": 4,
 "nbformat_minor": 4
}
